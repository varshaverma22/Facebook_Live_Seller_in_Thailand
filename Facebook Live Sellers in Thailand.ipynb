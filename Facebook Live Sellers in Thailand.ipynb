{
 "cells": [
  {
   "cell_type": "markdown",
   "id": "a9eb6591",
   "metadata": {},
   "source": [
    "## Project\n",
    "## Dataset: Facebook Live sellers in Thailand\n",
    "## Agenda:\n",
    "### Mini project based on KMeans and using K-means++ on the Live Dataset, and form the Clusters."
   ]
  },
  {
   "cell_type": "code",
   "execution_count": 1,
   "id": "cf37e049",
   "metadata": {},
   "outputs": [],
   "source": [
    "# Import the Libaray\n",
    "import pandas as pd\n",
    "import matplotlib.pyplot as plt\n",
    "import numpy as np\n",
    "import sklearn"
   ]
  },
  {
   "cell_type": "code",
   "execution_count": 2,
   "id": "85a5c4d8",
   "metadata": {},
   "outputs": [
    {
     "data": {
      "text/html": [
       "<div>\n",
       "<style scoped>\n",
       "    .dataframe tbody tr th:only-of-type {\n",
       "        vertical-align: middle;\n",
       "    }\n",
       "\n",
       "    .dataframe tbody tr th {\n",
       "        vertical-align: top;\n",
       "    }\n",
       "\n",
       "    .dataframe thead th {\n",
       "        text-align: right;\n",
       "    }\n",
       "</style>\n",
       "<table border=\"1\" class=\"dataframe\">\n",
       "  <thead>\n",
       "    <tr style=\"text-align: right;\">\n",
       "      <th></th>\n",
       "      <th>status_id</th>\n",
       "      <th>status_type</th>\n",
       "      <th>status_published</th>\n",
       "      <th>num_reactions</th>\n",
       "      <th>num_comments</th>\n",
       "      <th>num_shares</th>\n",
       "      <th>num_likes</th>\n",
       "      <th>num_loves</th>\n",
       "      <th>num_wows</th>\n",
       "      <th>num_hahas</th>\n",
       "      <th>num_sads</th>\n",
       "      <th>num_angrys</th>\n",
       "      <th>Column1</th>\n",
       "      <th>Column2</th>\n",
       "      <th>Column3</th>\n",
       "      <th>Column4</th>\n",
       "    </tr>\n",
       "  </thead>\n",
       "  <tbody>\n",
       "    <tr>\n",
       "      <th>0</th>\n",
       "      <td>246675545449582_1649696485147474</td>\n",
       "      <td>video</td>\n",
       "      <td>4/22/2018 6:00</td>\n",
       "      <td>529</td>\n",
       "      <td>512</td>\n",
       "      <td>262</td>\n",
       "      <td>432</td>\n",
       "      <td>92</td>\n",
       "      <td>3</td>\n",
       "      <td>1</td>\n",
       "      <td>1</td>\n",
       "      <td>0</td>\n",
       "      <td>NaN</td>\n",
       "      <td>NaN</td>\n",
       "      <td>NaN</td>\n",
       "      <td>NaN</td>\n",
       "    </tr>\n",
       "    <tr>\n",
       "      <th>1</th>\n",
       "      <td>246675545449582_1649426988507757</td>\n",
       "      <td>photo</td>\n",
       "      <td>4/21/2018 22:45</td>\n",
       "      <td>150</td>\n",
       "      <td>0</td>\n",
       "      <td>0</td>\n",
       "      <td>150</td>\n",
       "      <td>0</td>\n",
       "      <td>0</td>\n",
       "      <td>0</td>\n",
       "      <td>0</td>\n",
       "      <td>0</td>\n",
       "      <td>NaN</td>\n",
       "      <td>NaN</td>\n",
       "      <td>NaN</td>\n",
       "      <td>NaN</td>\n",
       "    </tr>\n",
       "    <tr>\n",
       "      <th>2</th>\n",
       "      <td>246675545449582_1648730588577397</td>\n",
       "      <td>video</td>\n",
       "      <td>4/21/2018 6:17</td>\n",
       "      <td>227</td>\n",
       "      <td>236</td>\n",
       "      <td>57</td>\n",
       "      <td>204</td>\n",
       "      <td>21</td>\n",
       "      <td>1</td>\n",
       "      <td>1</td>\n",
       "      <td>0</td>\n",
       "      <td>0</td>\n",
       "      <td>NaN</td>\n",
       "      <td>NaN</td>\n",
       "      <td>NaN</td>\n",
       "      <td>NaN</td>\n",
       "    </tr>\n",
       "    <tr>\n",
       "      <th>3</th>\n",
       "      <td>246675545449582_1648576705259452</td>\n",
       "      <td>photo</td>\n",
       "      <td>4/21/2018 2:29</td>\n",
       "      <td>111</td>\n",
       "      <td>0</td>\n",
       "      <td>0</td>\n",
       "      <td>111</td>\n",
       "      <td>0</td>\n",
       "      <td>0</td>\n",
       "      <td>0</td>\n",
       "      <td>0</td>\n",
       "      <td>0</td>\n",
       "      <td>NaN</td>\n",
       "      <td>NaN</td>\n",
       "      <td>NaN</td>\n",
       "      <td>NaN</td>\n",
       "    </tr>\n",
       "    <tr>\n",
       "      <th>4</th>\n",
       "      <td>246675545449582_1645700502213739</td>\n",
       "      <td>photo</td>\n",
       "      <td>4/18/2018 3:22</td>\n",
       "      <td>213</td>\n",
       "      <td>0</td>\n",
       "      <td>0</td>\n",
       "      <td>204</td>\n",
       "      <td>9</td>\n",
       "      <td>0</td>\n",
       "      <td>0</td>\n",
       "      <td>0</td>\n",
       "      <td>0</td>\n",
       "      <td>NaN</td>\n",
       "      <td>NaN</td>\n",
       "      <td>NaN</td>\n",
       "      <td>NaN</td>\n",
       "    </tr>\n",
       "    <tr>\n",
       "      <th>...</th>\n",
       "      <td>...</td>\n",
       "      <td>...</td>\n",
       "      <td>...</td>\n",
       "      <td>...</td>\n",
       "      <td>...</td>\n",
       "      <td>...</td>\n",
       "      <td>...</td>\n",
       "      <td>...</td>\n",
       "      <td>...</td>\n",
       "      <td>...</td>\n",
       "      <td>...</td>\n",
       "      <td>...</td>\n",
       "      <td>...</td>\n",
       "      <td>...</td>\n",
       "      <td>...</td>\n",
       "      <td>...</td>\n",
       "    </tr>\n",
       "    <tr>\n",
       "      <th>7045</th>\n",
       "      <td>1050855161656896_1061863470556065</td>\n",
       "      <td>photo</td>\n",
       "      <td>9/24/2016 2:58</td>\n",
       "      <td>89</td>\n",
       "      <td>0</td>\n",
       "      <td>0</td>\n",
       "      <td>89</td>\n",
       "      <td>0</td>\n",
       "      <td>0</td>\n",
       "      <td>0</td>\n",
       "      <td>0</td>\n",
       "      <td>0</td>\n",
       "      <td>NaN</td>\n",
       "      <td>NaN</td>\n",
       "      <td>NaN</td>\n",
       "      <td>NaN</td>\n",
       "    </tr>\n",
       "    <tr>\n",
       "      <th>7046</th>\n",
       "      <td>1050855161656896_1061334757275603</td>\n",
       "      <td>photo</td>\n",
       "      <td>9/23/2016 11:19</td>\n",
       "      <td>16</td>\n",
       "      <td>0</td>\n",
       "      <td>0</td>\n",
       "      <td>14</td>\n",
       "      <td>1</td>\n",
       "      <td>0</td>\n",
       "      <td>1</td>\n",
       "      <td>0</td>\n",
       "      <td>0</td>\n",
       "      <td>NaN</td>\n",
       "      <td>NaN</td>\n",
       "      <td>NaN</td>\n",
       "      <td>NaN</td>\n",
       "    </tr>\n",
       "    <tr>\n",
       "      <th>7047</th>\n",
       "      <td>1050855161656896_1060126464063099</td>\n",
       "      <td>photo</td>\n",
       "      <td>9/21/2016 23:03</td>\n",
       "      <td>2</td>\n",
       "      <td>0</td>\n",
       "      <td>0</td>\n",
       "      <td>1</td>\n",
       "      <td>1</td>\n",
       "      <td>0</td>\n",
       "      <td>0</td>\n",
       "      <td>0</td>\n",
       "      <td>0</td>\n",
       "      <td>NaN</td>\n",
       "      <td>NaN</td>\n",
       "      <td>NaN</td>\n",
       "      <td>NaN</td>\n",
       "    </tr>\n",
       "    <tr>\n",
       "      <th>7048</th>\n",
       "      <td>1050855161656896_1058663487542730</td>\n",
       "      <td>photo</td>\n",
       "      <td>9/20/2016 0:43</td>\n",
       "      <td>351</td>\n",
       "      <td>12</td>\n",
       "      <td>22</td>\n",
       "      <td>349</td>\n",
       "      <td>2</td>\n",
       "      <td>0</td>\n",
       "      <td>0</td>\n",
       "      <td>0</td>\n",
       "      <td>0</td>\n",
       "      <td>NaN</td>\n",
       "      <td>NaN</td>\n",
       "      <td>NaN</td>\n",
       "      <td>NaN</td>\n",
       "    </tr>\n",
       "    <tr>\n",
       "      <th>7049</th>\n",
       "      <td>1050855161656896_1050858841656528</td>\n",
       "      <td>photo</td>\n",
       "      <td>9/10/2016 10:30</td>\n",
       "      <td>17</td>\n",
       "      <td>0</td>\n",
       "      <td>0</td>\n",
       "      <td>17</td>\n",
       "      <td>0</td>\n",
       "      <td>0</td>\n",
       "      <td>0</td>\n",
       "      <td>0</td>\n",
       "      <td>0</td>\n",
       "      <td>NaN</td>\n",
       "      <td>NaN</td>\n",
       "      <td>NaN</td>\n",
       "      <td>NaN</td>\n",
       "    </tr>\n",
       "  </tbody>\n",
       "</table>\n",
       "<p>7050 rows × 16 columns</p>\n",
       "</div>"
      ],
      "text/plain": [
       "                              status_id status_type status_published  \\\n",
       "0      246675545449582_1649696485147474       video   4/22/2018 6:00   \n",
       "1      246675545449582_1649426988507757       photo  4/21/2018 22:45   \n",
       "2      246675545449582_1648730588577397       video   4/21/2018 6:17   \n",
       "3      246675545449582_1648576705259452       photo   4/21/2018 2:29   \n",
       "4      246675545449582_1645700502213739       photo   4/18/2018 3:22   \n",
       "...                                 ...         ...              ...   \n",
       "7045  1050855161656896_1061863470556065       photo   9/24/2016 2:58   \n",
       "7046  1050855161656896_1061334757275603       photo  9/23/2016 11:19   \n",
       "7047  1050855161656896_1060126464063099       photo  9/21/2016 23:03   \n",
       "7048  1050855161656896_1058663487542730       photo   9/20/2016 0:43   \n",
       "7049  1050855161656896_1050858841656528       photo  9/10/2016 10:30   \n",
       "\n",
       "      num_reactions  num_comments  num_shares  num_likes  num_loves  num_wows  \\\n",
       "0               529           512         262        432         92         3   \n",
       "1               150             0           0        150          0         0   \n",
       "2               227           236          57        204         21         1   \n",
       "3               111             0           0        111          0         0   \n",
       "4               213             0           0        204          9         0   \n",
       "...             ...           ...         ...        ...        ...       ...   \n",
       "7045             89             0           0         89          0         0   \n",
       "7046             16             0           0         14          1         0   \n",
       "7047              2             0           0          1          1         0   \n",
       "7048            351            12          22        349          2         0   \n",
       "7049             17             0           0         17          0         0   \n",
       "\n",
       "      num_hahas  num_sads  num_angrys  Column1  Column2  Column3  Column4  \n",
       "0             1         1           0      NaN      NaN      NaN      NaN  \n",
       "1             0         0           0      NaN      NaN      NaN      NaN  \n",
       "2             1         0           0      NaN      NaN      NaN      NaN  \n",
       "3             0         0           0      NaN      NaN      NaN      NaN  \n",
       "4             0         0           0      NaN      NaN      NaN      NaN  \n",
       "...         ...       ...         ...      ...      ...      ...      ...  \n",
       "7045          0         0           0      NaN      NaN      NaN      NaN  \n",
       "7046          1         0           0      NaN      NaN      NaN      NaN  \n",
       "7047          0         0           0      NaN      NaN      NaN      NaN  \n",
       "7048          0         0           0      NaN      NaN      NaN      NaN  \n",
       "7049          0         0           0      NaN      NaN      NaN      NaN  \n",
       "\n",
       "[7050 rows x 16 columns]"
      ]
     },
     "execution_count": 2,
     "metadata": {},
     "output_type": "execute_result"
    }
   ],
   "source": [
    "# Dataset\n",
    "data=pd.read_csv(\"C:/Users/Lenovo/Desktop/Semester- III/ML Data Set/Live.csv\")\n",
    "data"
   ]
  },
  {
   "cell_type": "code",
   "execution_count": 3,
   "id": "9f4c4b45",
   "metadata": {},
   "outputs": [
    {
     "data": {
      "text/plain": [
       "status_id              0\n",
       "status_type            0\n",
       "status_published       0\n",
       "num_reactions          0\n",
       "num_comments           0\n",
       "num_shares             0\n",
       "num_likes              0\n",
       "num_loves              0\n",
       "num_wows               0\n",
       "num_hahas              0\n",
       "num_sads               0\n",
       "num_angrys             0\n",
       "Column1             7050\n",
       "Column2             7050\n",
       "Column3             7050\n",
       "Column4             7050\n",
       "dtype: int64"
      ]
     },
     "execution_count": 3,
     "metadata": {},
     "output_type": "execute_result"
    }
   ],
   "source": [
    "# Here, we count the all nulls \n",
    "data.isnull().sum()"
   ]
  },
  {
   "cell_type": "code",
   "execution_count": 4,
   "id": "6305ed20",
   "metadata": {},
   "outputs": [],
   "source": [
    "# Here, we Delete blanks columns\n",
    "del data['Column1']\n",
    "del data['Column2']\n",
    "del data['Column3']\n",
    "del data['Column4']"
   ]
  },
  {
   "cell_type": "code",
   "execution_count": 5,
   "id": "c40dafa8",
   "metadata": {},
   "outputs": [
    {
     "name": "stdout",
     "output_type": "stream",
     "text": [
      "<class 'pandas.core.frame.DataFrame'>\n",
      "RangeIndex: 7050 entries, 0 to 7049\n",
      "Data columns (total 12 columns):\n",
      " #   Column            Non-Null Count  Dtype \n",
      "---  ------            --------------  ----- \n",
      " 0   status_id         7050 non-null   object\n",
      " 1   status_type       7050 non-null   object\n",
      " 2   status_published  7050 non-null   object\n",
      " 3   num_reactions     7050 non-null   int64 \n",
      " 4   num_comments      7050 non-null   int64 \n",
      " 5   num_shares        7050 non-null   int64 \n",
      " 6   num_likes         7050 non-null   int64 \n",
      " 7   num_loves         7050 non-null   int64 \n",
      " 8   num_wows          7050 non-null   int64 \n",
      " 9   num_hahas         7050 non-null   int64 \n",
      " 10  num_sads          7050 non-null   int64 \n",
      " 11  num_angrys        7050 non-null   int64 \n",
      "dtypes: int64(9), object(3)\n",
      "memory usage: 661.1+ KB\n"
     ]
    }
   ],
   "source": [
    "# Imformtion about the data\n",
    "data.info()"
   ]
  },
  {
   "cell_type": "code",
   "execution_count": 6,
   "id": "22c41021",
   "metadata": {},
   "outputs": [],
   "source": [
    "# Seperate the year and month\n",
    "data['year']=pd.DatetimeIndex(data['status_published']).year\n",
    "data['month']=pd.DatetimeIndex(data['status_published']).month"
   ]
  },
  {
   "cell_type": "code",
   "execution_count": 7,
   "id": "e3e3caba",
   "metadata": {},
   "outputs": [
    {
     "data": {
      "text/html": [
       "<div>\n",
       "<style scoped>\n",
       "    .dataframe tbody tr th:only-of-type {\n",
       "        vertical-align: middle;\n",
       "    }\n",
       "\n",
       "    .dataframe tbody tr th {\n",
       "        vertical-align: top;\n",
       "    }\n",
       "\n",
       "    .dataframe thead th {\n",
       "        text-align: right;\n",
       "    }\n",
       "</style>\n",
       "<table border=\"1\" class=\"dataframe\">\n",
       "  <thead>\n",
       "    <tr style=\"text-align: right;\">\n",
       "      <th></th>\n",
       "      <th>status_id</th>\n",
       "      <th>status_type</th>\n",
       "      <th>status_published</th>\n",
       "      <th>num_reactions</th>\n",
       "      <th>num_comments</th>\n",
       "      <th>num_shares</th>\n",
       "      <th>num_likes</th>\n",
       "      <th>num_loves</th>\n",
       "      <th>num_wows</th>\n",
       "      <th>num_hahas</th>\n",
       "      <th>num_sads</th>\n",
       "      <th>num_angrys</th>\n",
       "      <th>year</th>\n",
       "      <th>month</th>\n",
       "    </tr>\n",
       "  </thead>\n",
       "  <tbody>\n",
       "    <tr>\n",
       "      <th>0</th>\n",
       "      <td>246675545449582_1649696485147474</td>\n",
       "      <td>video</td>\n",
       "      <td>4/22/2018 6:00</td>\n",
       "      <td>529</td>\n",
       "      <td>512</td>\n",
       "      <td>262</td>\n",
       "      <td>432</td>\n",
       "      <td>92</td>\n",
       "      <td>3</td>\n",
       "      <td>1</td>\n",
       "      <td>1</td>\n",
       "      <td>0</td>\n",
       "      <td>2018</td>\n",
       "      <td>4</td>\n",
       "    </tr>\n",
       "    <tr>\n",
       "      <th>1</th>\n",
       "      <td>246675545449582_1649426988507757</td>\n",
       "      <td>photo</td>\n",
       "      <td>4/21/2018 22:45</td>\n",
       "      <td>150</td>\n",
       "      <td>0</td>\n",
       "      <td>0</td>\n",
       "      <td>150</td>\n",
       "      <td>0</td>\n",
       "      <td>0</td>\n",
       "      <td>0</td>\n",
       "      <td>0</td>\n",
       "      <td>0</td>\n",
       "      <td>2018</td>\n",
       "      <td>4</td>\n",
       "    </tr>\n",
       "    <tr>\n",
       "      <th>2</th>\n",
       "      <td>246675545449582_1648730588577397</td>\n",
       "      <td>video</td>\n",
       "      <td>4/21/2018 6:17</td>\n",
       "      <td>227</td>\n",
       "      <td>236</td>\n",
       "      <td>57</td>\n",
       "      <td>204</td>\n",
       "      <td>21</td>\n",
       "      <td>1</td>\n",
       "      <td>1</td>\n",
       "      <td>0</td>\n",
       "      <td>0</td>\n",
       "      <td>2018</td>\n",
       "      <td>4</td>\n",
       "    </tr>\n",
       "    <tr>\n",
       "      <th>3</th>\n",
       "      <td>246675545449582_1648576705259452</td>\n",
       "      <td>photo</td>\n",
       "      <td>4/21/2018 2:29</td>\n",
       "      <td>111</td>\n",
       "      <td>0</td>\n",
       "      <td>0</td>\n",
       "      <td>111</td>\n",
       "      <td>0</td>\n",
       "      <td>0</td>\n",
       "      <td>0</td>\n",
       "      <td>0</td>\n",
       "      <td>0</td>\n",
       "      <td>2018</td>\n",
       "      <td>4</td>\n",
       "    </tr>\n",
       "    <tr>\n",
       "      <th>4</th>\n",
       "      <td>246675545449582_1645700502213739</td>\n",
       "      <td>photo</td>\n",
       "      <td>4/18/2018 3:22</td>\n",
       "      <td>213</td>\n",
       "      <td>0</td>\n",
       "      <td>0</td>\n",
       "      <td>204</td>\n",
       "      <td>9</td>\n",
       "      <td>0</td>\n",
       "      <td>0</td>\n",
       "      <td>0</td>\n",
       "      <td>0</td>\n",
       "      <td>2018</td>\n",
       "      <td>4</td>\n",
       "    </tr>\n",
       "    <tr>\n",
       "      <th>...</th>\n",
       "      <td>...</td>\n",
       "      <td>...</td>\n",
       "      <td>...</td>\n",
       "      <td>...</td>\n",
       "      <td>...</td>\n",
       "      <td>...</td>\n",
       "      <td>...</td>\n",
       "      <td>...</td>\n",
       "      <td>...</td>\n",
       "      <td>...</td>\n",
       "      <td>...</td>\n",
       "      <td>...</td>\n",
       "      <td>...</td>\n",
       "      <td>...</td>\n",
       "    </tr>\n",
       "    <tr>\n",
       "      <th>7045</th>\n",
       "      <td>1050855161656896_1061863470556065</td>\n",
       "      <td>photo</td>\n",
       "      <td>9/24/2016 2:58</td>\n",
       "      <td>89</td>\n",
       "      <td>0</td>\n",
       "      <td>0</td>\n",
       "      <td>89</td>\n",
       "      <td>0</td>\n",
       "      <td>0</td>\n",
       "      <td>0</td>\n",
       "      <td>0</td>\n",
       "      <td>0</td>\n",
       "      <td>2016</td>\n",
       "      <td>9</td>\n",
       "    </tr>\n",
       "    <tr>\n",
       "      <th>7046</th>\n",
       "      <td>1050855161656896_1061334757275603</td>\n",
       "      <td>photo</td>\n",
       "      <td>9/23/2016 11:19</td>\n",
       "      <td>16</td>\n",
       "      <td>0</td>\n",
       "      <td>0</td>\n",
       "      <td>14</td>\n",
       "      <td>1</td>\n",
       "      <td>0</td>\n",
       "      <td>1</td>\n",
       "      <td>0</td>\n",
       "      <td>0</td>\n",
       "      <td>2016</td>\n",
       "      <td>9</td>\n",
       "    </tr>\n",
       "    <tr>\n",
       "      <th>7047</th>\n",
       "      <td>1050855161656896_1060126464063099</td>\n",
       "      <td>photo</td>\n",
       "      <td>9/21/2016 23:03</td>\n",
       "      <td>2</td>\n",
       "      <td>0</td>\n",
       "      <td>0</td>\n",
       "      <td>1</td>\n",
       "      <td>1</td>\n",
       "      <td>0</td>\n",
       "      <td>0</td>\n",
       "      <td>0</td>\n",
       "      <td>0</td>\n",
       "      <td>2016</td>\n",
       "      <td>9</td>\n",
       "    </tr>\n",
       "    <tr>\n",
       "      <th>7048</th>\n",
       "      <td>1050855161656896_1058663487542730</td>\n",
       "      <td>photo</td>\n",
       "      <td>9/20/2016 0:43</td>\n",
       "      <td>351</td>\n",
       "      <td>12</td>\n",
       "      <td>22</td>\n",
       "      <td>349</td>\n",
       "      <td>2</td>\n",
       "      <td>0</td>\n",
       "      <td>0</td>\n",
       "      <td>0</td>\n",
       "      <td>0</td>\n",
       "      <td>2016</td>\n",
       "      <td>9</td>\n",
       "    </tr>\n",
       "    <tr>\n",
       "      <th>7049</th>\n",
       "      <td>1050855161656896_1050858841656528</td>\n",
       "      <td>photo</td>\n",
       "      <td>9/10/2016 10:30</td>\n",
       "      <td>17</td>\n",
       "      <td>0</td>\n",
       "      <td>0</td>\n",
       "      <td>17</td>\n",
       "      <td>0</td>\n",
       "      <td>0</td>\n",
       "      <td>0</td>\n",
       "      <td>0</td>\n",
       "      <td>0</td>\n",
       "      <td>2016</td>\n",
       "      <td>9</td>\n",
       "    </tr>\n",
       "  </tbody>\n",
       "</table>\n",
       "<p>7050 rows × 14 columns</p>\n",
       "</div>"
      ],
      "text/plain": [
       "                              status_id status_type status_published  \\\n",
       "0      246675545449582_1649696485147474       video   4/22/2018 6:00   \n",
       "1      246675545449582_1649426988507757       photo  4/21/2018 22:45   \n",
       "2      246675545449582_1648730588577397       video   4/21/2018 6:17   \n",
       "3      246675545449582_1648576705259452       photo   4/21/2018 2:29   \n",
       "4      246675545449582_1645700502213739       photo   4/18/2018 3:22   \n",
       "...                                 ...         ...              ...   \n",
       "7045  1050855161656896_1061863470556065       photo   9/24/2016 2:58   \n",
       "7046  1050855161656896_1061334757275603       photo  9/23/2016 11:19   \n",
       "7047  1050855161656896_1060126464063099       photo  9/21/2016 23:03   \n",
       "7048  1050855161656896_1058663487542730       photo   9/20/2016 0:43   \n",
       "7049  1050855161656896_1050858841656528       photo  9/10/2016 10:30   \n",
       "\n",
       "      num_reactions  num_comments  num_shares  num_likes  num_loves  num_wows  \\\n",
       "0               529           512         262        432         92         3   \n",
       "1               150             0           0        150          0         0   \n",
       "2               227           236          57        204         21         1   \n",
       "3               111             0           0        111          0         0   \n",
       "4               213             0           0        204          9         0   \n",
       "...             ...           ...         ...        ...        ...       ...   \n",
       "7045             89             0           0         89          0         0   \n",
       "7046             16             0           0         14          1         0   \n",
       "7047              2             0           0          1          1         0   \n",
       "7048            351            12          22        349          2         0   \n",
       "7049             17             0           0         17          0         0   \n",
       "\n",
       "      num_hahas  num_sads  num_angrys  year  month  \n",
       "0             1         1           0  2018      4  \n",
       "1             0         0           0  2018      4  \n",
       "2             1         0           0  2018      4  \n",
       "3             0         0           0  2018      4  \n",
       "4             0         0           0  2018      4  \n",
       "...         ...       ...         ...   ...    ...  \n",
       "7045          0         0           0  2016      9  \n",
       "7046          1         0           0  2016      9  \n",
       "7047          0         0           0  2016      9  \n",
       "7048          0         0           0  2016      9  \n",
       "7049          0         0           0  2016      9  \n",
       "\n",
       "[7050 rows x 14 columns]"
      ]
     },
     "execution_count": 7,
     "metadata": {},
     "output_type": "execute_result"
    }
   ],
   "source": [
    "data"
   ]
  },
  {
   "cell_type": "code",
   "execution_count": 8,
   "id": "4e0edfc6",
   "metadata": {},
   "outputs": [
    {
     "name": "stdout",
     "output_type": "stream",
     "text": [
      "<class 'pandas.core.frame.DataFrame'>\n",
      "RangeIndex: 7050 entries, 0 to 7049\n",
      "Data columns (total 14 columns):\n",
      " #   Column            Non-Null Count  Dtype \n",
      "---  ------            --------------  ----- \n",
      " 0   status_id         7050 non-null   object\n",
      " 1   status_type       7050 non-null   object\n",
      " 2   status_published  7050 non-null   object\n",
      " 3   num_reactions     7050 non-null   int64 \n",
      " 4   num_comments      7050 non-null   int64 \n",
      " 5   num_shares        7050 non-null   int64 \n",
      " 6   num_likes         7050 non-null   int64 \n",
      " 7   num_loves         7050 non-null   int64 \n",
      " 8   num_wows          7050 non-null   int64 \n",
      " 9   num_hahas         7050 non-null   int64 \n",
      " 10  num_sads          7050 non-null   int64 \n",
      " 11  num_angrys        7050 non-null   int64 \n",
      " 12  year              7050 non-null   int64 \n",
      " 13  month             7050 non-null   int64 \n",
      "dtypes: int64(11), object(3)\n",
      "memory usage: 771.2+ KB\n"
     ]
    }
   ],
   "source": [
    "# Information about the data\n",
    "data.info()"
   ]
  },
  {
   "cell_type": "code",
   "execution_count": 10,
   "id": "35c16e24",
   "metadata": {},
   "outputs": [],
   "source": [
    "# String convert into int\n",
    "from sklearn.preprocessing import LabelEncoder\n",
    "le = LabelEncoder()\n",
    "data['status_type'] = le.fit_transform(data['status_type'])\n",
    "y = le.transform(data['status_type'])"
   ]
  },
  {
   "cell_type": "code",
   "execution_count": 11,
   "id": "ddf6afc1",
   "metadata": {},
   "outputs": [
    {
     "data": {
      "text/html": [
       "<div>\n",
       "<style scoped>\n",
       "    .dataframe tbody tr th:only-of-type {\n",
       "        vertical-align: middle;\n",
       "    }\n",
       "\n",
       "    .dataframe tbody tr th {\n",
       "        vertical-align: top;\n",
       "    }\n",
       "\n",
       "    .dataframe thead th {\n",
       "        text-align: right;\n",
       "    }\n",
       "</style>\n",
       "<table border=\"1\" class=\"dataframe\">\n",
       "  <thead>\n",
       "    <tr style=\"text-align: right;\">\n",
       "      <th></th>\n",
       "      <th>status_id</th>\n",
       "      <th>status_type</th>\n",
       "      <th>status_published</th>\n",
       "      <th>num_reactions</th>\n",
       "      <th>num_comments</th>\n",
       "      <th>num_shares</th>\n",
       "      <th>num_likes</th>\n",
       "      <th>num_loves</th>\n",
       "      <th>num_wows</th>\n",
       "      <th>num_hahas</th>\n",
       "      <th>num_sads</th>\n",
       "      <th>num_angrys</th>\n",
       "      <th>year</th>\n",
       "      <th>month</th>\n",
       "    </tr>\n",
       "  </thead>\n",
       "  <tbody>\n",
       "    <tr>\n",
       "      <th>0</th>\n",
       "      <td>246675545449582_1649696485147474</td>\n",
       "      <td>3</td>\n",
       "      <td>4/22/2018 6:00</td>\n",
       "      <td>529</td>\n",
       "      <td>512</td>\n",
       "      <td>262</td>\n",
       "      <td>432</td>\n",
       "      <td>92</td>\n",
       "      <td>3</td>\n",
       "      <td>1</td>\n",
       "      <td>1</td>\n",
       "      <td>0</td>\n",
       "      <td>2018</td>\n",
       "      <td>4</td>\n",
       "    </tr>\n",
       "    <tr>\n",
       "      <th>1</th>\n",
       "      <td>246675545449582_1649426988507757</td>\n",
       "      <td>1</td>\n",
       "      <td>4/21/2018 22:45</td>\n",
       "      <td>150</td>\n",
       "      <td>0</td>\n",
       "      <td>0</td>\n",
       "      <td>150</td>\n",
       "      <td>0</td>\n",
       "      <td>0</td>\n",
       "      <td>0</td>\n",
       "      <td>0</td>\n",
       "      <td>0</td>\n",
       "      <td>2018</td>\n",
       "      <td>4</td>\n",
       "    </tr>\n",
       "    <tr>\n",
       "      <th>2</th>\n",
       "      <td>246675545449582_1648730588577397</td>\n",
       "      <td>3</td>\n",
       "      <td>4/21/2018 6:17</td>\n",
       "      <td>227</td>\n",
       "      <td>236</td>\n",
       "      <td>57</td>\n",
       "      <td>204</td>\n",
       "      <td>21</td>\n",
       "      <td>1</td>\n",
       "      <td>1</td>\n",
       "      <td>0</td>\n",
       "      <td>0</td>\n",
       "      <td>2018</td>\n",
       "      <td>4</td>\n",
       "    </tr>\n",
       "    <tr>\n",
       "      <th>3</th>\n",
       "      <td>246675545449582_1648576705259452</td>\n",
       "      <td>1</td>\n",
       "      <td>4/21/2018 2:29</td>\n",
       "      <td>111</td>\n",
       "      <td>0</td>\n",
       "      <td>0</td>\n",
       "      <td>111</td>\n",
       "      <td>0</td>\n",
       "      <td>0</td>\n",
       "      <td>0</td>\n",
       "      <td>0</td>\n",
       "      <td>0</td>\n",
       "      <td>2018</td>\n",
       "      <td>4</td>\n",
       "    </tr>\n",
       "    <tr>\n",
       "      <th>4</th>\n",
       "      <td>246675545449582_1645700502213739</td>\n",
       "      <td>1</td>\n",
       "      <td>4/18/2018 3:22</td>\n",
       "      <td>213</td>\n",
       "      <td>0</td>\n",
       "      <td>0</td>\n",
       "      <td>204</td>\n",
       "      <td>9</td>\n",
       "      <td>0</td>\n",
       "      <td>0</td>\n",
       "      <td>0</td>\n",
       "      <td>0</td>\n",
       "      <td>2018</td>\n",
       "      <td>4</td>\n",
       "    </tr>\n",
       "    <tr>\n",
       "      <th>...</th>\n",
       "      <td>...</td>\n",
       "      <td>...</td>\n",
       "      <td>...</td>\n",
       "      <td>...</td>\n",
       "      <td>...</td>\n",
       "      <td>...</td>\n",
       "      <td>...</td>\n",
       "      <td>...</td>\n",
       "      <td>...</td>\n",
       "      <td>...</td>\n",
       "      <td>...</td>\n",
       "      <td>...</td>\n",
       "      <td>...</td>\n",
       "      <td>...</td>\n",
       "    </tr>\n",
       "    <tr>\n",
       "      <th>7045</th>\n",
       "      <td>1050855161656896_1061863470556065</td>\n",
       "      <td>1</td>\n",
       "      <td>9/24/2016 2:58</td>\n",
       "      <td>89</td>\n",
       "      <td>0</td>\n",
       "      <td>0</td>\n",
       "      <td>89</td>\n",
       "      <td>0</td>\n",
       "      <td>0</td>\n",
       "      <td>0</td>\n",
       "      <td>0</td>\n",
       "      <td>0</td>\n",
       "      <td>2016</td>\n",
       "      <td>9</td>\n",
       "    </tr>\n",
       "    <tr>\n",
       "      <th>7046</th>\n",
       "      <td>1050855161656896_1061334757275603</td>\n",
       "      <td>1</td>\n",
       "      <td>9/23/2016 11:19</td>\n",
       "      <td>16</td>\n",
       "      <td>0</td>\n",
       "      <td>0</td>\n",
       "      <td>14</td>\n",
       "      <td>1</td>\n",
       "      <td>0</td>\n",
       "      <td>1</td>\n",
       "      <td>0</td>\n",
       "      <td>0</td>\n",
       "      <td>2016</td>\n",
       "      <td>9</td>\n",
       "    </tr>\n",
       "    <tr>\n",
       "      <th>7047</th>\n",
       "      <td>1050855161656896_1060126464063099</td>\n",
       "      <td>1</td>\n",
       "      <td>9/21/2016 23:03</td>\n",
       "      <td>2</td>\n",
       "      <td>0</td>\n",
       "      <td>0</td>\n",
       "      <td>1</td>\n",
       "      <td>1</td>\n",
       "      <td>0</td>\n",
       "      <td>0</td>\n",
       "      <td>0</td>\n",
       "      <td>0</td>\n",
       "      <td>2016</td>\n",
       "      <td>9</td>\n",
       "    </tr>\n",
       "    <tr>\n",
       "      <th>7048</th>\n",
       "      <td>1050855161656896_1058663487542730</td>\n",
       "      <td>1</td>\n",
       "      <td>9/20/2016 0:43</td>\n",
       "      <td>351</td>\n",
       "      <td>12</td>\n",
       "      <td>22</td>\n",
       "      <td>349</td>\n",
       "      <td>2</td>\n",
       "      <td>0</td>\n",
       "      <td>0</td>\n",
       "      <td>0</td>\n",
       "      <td>0</td>\n",
       "      <td>2016</td>\n",
       "      <td>9</td>\n",
       "    </tr>\n",
       "    <tr>\n",
       "      <th>7049</th>\n",
       "      <td>1050855161656896_1050858841656528</td>\n",
       "      <td>1</td>\n",
       "      <td>9/10/2016 10:30</td>\n",
       "      <td>17</td>\n",
       "      <td>0</td>\n",
       "      <td>0</td>\n",
       "      <td>17</td>\n",
       "      <td>0</td>\n",
       "      <td>0</td>\n",
       "      <td>0</td>\n",
       "      <td>0</td>\n",
       "      <td>0</td>\n",
       "      <td>2016</td>\n",
       "      <td>9</td>\n",
       "    </tr>\n",
       "  </tbody>\n",
       "</table>\n",
       "<p>7050 rows × 14 columns</p>\n",
       "</div>"
      ],
      "text/plain": [
       "                              status_id  status_type status_published  \\\n",
       "0      246675545449582_1649696485147474            3   4/22/2018 6:00   \n",
       "1      246675545449582_1649426988507757            1  4/21/2018 22:45   \n",
       "2      246675545449582_1648730588577397            3   4/21/2018 6:17   \n",
       "3      246675545449582_1648576705259452            1   4/21/2018 2:29   \n",
       "4      246675545449582_1645700502213739            1   4/18/2018 3:22   \n",
       "...                                 ...          ...              ...   \n",
       "7045  1050855161656896_1061863470556065            1   9/24/2016 2:58   \n",
       "7046  1050855161656896_1061334757275603            1  9/23/2016 11:19   \n",
       "7047  1050855161656896_1060126464063099            1  9/21/2016 23:03   \n",
       "7048  1050855161656896_1058663487542730            1   9/20/2016 0:43   \n",
       "7049  1050855161656896_1050858841656528            1  9/10/2016 10:30   \n",
       "\n",
       "      num_reactions  num_comments  num_shares  num_likes  num_loves  num_wows  \\\n",
       "0               529           512         262        432         92         3   \n",
       "1               150             0           0        150          0         0   \n",
       "2               227           236          57        204         21         1   \n",
       "3               111             0           0        111          0         0   \n",
       "4               213             0           0        204          9         0   \n",
       "...             ...           ...         ...        ...        ...       ...   \n",
       "7045             89             0           0         89          0         0   \n",
       "7046             16             0           0         14          1         0   \n",
       "7047              2             0           0          1          1         0   \n",
       "7048            351            12          22        349          2         0   \n",
       "7049             17             0           0         17          0         0   \n",
       "\n",
       "      num_hahas  num_sads  num_angrys  year  month  \n",
       "0             1         1           0  2018      4  \n",
       "1             0         0           0  2018      4  \n",
       "2             1         0           0  2018      4  \n",
       "3             0         0           0  2018      4  \n",
       "4             0         0           0  2018      4  \n",
       "...         ...       ...         ...   ...    ...  \n",
       "7045          0         0           0  2016      9  \n",
       "7046          1         0           0  2016      9  \n",
       "7047          0         0           0  2016      9  \n",
       "7048          0         0           0  2016      9  \n",
       "7049          0         0           0  2016      9  \n",
       "\n",
       "[7050 rows x 14 columns]"
      ]
     },
     "execution_count": 11,
     "metadata": {},
     "output_type": "execute_result"
    }
   ],
   "source": [
    "data"
   ]
  },
  {
   "cell_type": "code",
   "execution_count": 12,
   "id": "4d446cb7",
   "metadata": {},
   "outputs": [
    {
     "data": {
      "text/plain": [
       "array([[512, 262],\n",
       "       [  0,   0],\n",
       "       [236,  57],\n",
       "       ...,\n",
       "       [  0,   0],\n",
       "       [ 12,  22],\n",
       "       [  0,   0]], dtype=int64)"
      ]
     },
     "execution_count": 12,
     "metadata": {},
     "output_type": "execute_result"
    }
   ],
   "source": [
    "# Now, we try to make the cluster using different features\n",
    "# 4= num_comments and 5= num_shares\n",
    "x=data.iloc[:,[4,5]].values\n",
    "x"
   ]
  },
  {
   "cell_type": "code",
   "execution_count": 13,
   "id": "0424a905",
   "metadata": {},
   "outputs": [
    {
     "data": {
      "image/png": "[encoded data removed]",
      "text/plain": [
       "<Figure size 432x288 with 1 Axes>"
      ]
     },
     "metadata": {
      "needs_background": "light"
     },
     "output_type": "display_data"
    }
   ],
   "source": [
    "from sklearn.cluster import KMeans\n",
    "# we have created the wcss list\n",
    "# wcss is a interia \n",
    "wcss_list=[] # Initializing the list for the value of WCSS\n",
    "#hutte\n",
    "# kmeans.inertia_: sum of squared distance\n",
    "for i in range(1,11):\n",
    "    kmeans=KMeans(n_clusters=i,init='k-means++',random_state=1)\n",
    "    kmeans.fit(x)\n",
    "    wcss_list.append(kmeans.inertia_)\n",
    "plt.plot(range(1,11),wcss_list)\n",
    "plt.title('The Elbow Method Graph')\n",
    "plt.xlabel('Number of clusters(k)')\n",
    "plt.ylabel('wcss_list')\n",
    "plt.show()"
   ]
  },
  {
   "cell_type": "code",
   "execution_count": 14,
   "id": "97409767",
   "metadata": {},
   "outputs": [
    {
     "data": {
      "text/plain": [
       "3"
      ]
     },
     "execution_count": 14,
     "metadata": {},
     "output_type": "execute_result"
    }
   ],
   "source": [
    "# Elbow point \n",
    "from kneed import KneeLocator\n",
    "k1=KneeLocator(range(1,11),wcss_list,curve='convex',direction='decreasing')\n",
    "k1.elbow"
   ]
  },
  {
   "cell_type": "code",
   "execution_count": 15,
   "id": "feb88926",
   "metadata": {},
   "outputs": [
    {
     "data": {
      "text/plain": [
       "array([0, 0, 0, ..., 0, 0, 0])"
      ]
     },
     "execution_count": 15,
     "metadata": {},
     "output_type": "execute_result"
    }
   ],
   "source": [
    "kmeans=KMeans(n_clusters=3,init='k-means++',random_state=1)\n",
    "# We are going to use the fit predict method that return for each observation which cluster\n",
    "y_predict=kmeans.fit_predict(x)\n",
    "y_predict"
   ]
  },
  {
   "cell_type": "code",
   "execution_count": 16,
   "id": "57530493",
   "metadata": {},
   "outputs": [
    {
     "data": {
      "image/png": "[encoded data removed]",
      "text/plain": [
       "<Figure size 432x288 with 1 Axes>"
      ]
     },
     "metadata": {
      "needs_background": "light"
     },
     "output_type": "display_data"
    }
   ],
   "source": [
    "plt.scatter(x[:,0],x[:,1],c='blue',label='All Data Points')\n",
    "plt.title('Data Points')\n",
    "plt.xlabel('num_comments')\n",
    "plt.ylabel('num_share')\n",
    "plt.legend()\n",
    "plt.show()"
   ]
  },
  {
   "cell_type": "code",
   "execution_count": 17,
   "id": "083e47f3",
   "metadata": {},
   "outputs": [
    {
     "data": {
      "image/png": "[encoded data removed]",
      "text/plain": [
       "<Figure size 432x288 with 1 Axes>"
      ]
     },
     "metadata": {
      "needs_background": "light"
     },
     "output_type": "display_data"
    }
   ],
   "source": [
    "plt.scatter(x[y_predict==0,0],x[y_predict==0,1],s=100,c='blue',label='Cluster1')\n",
    "plt.scatter(x[y_predict==1,0],x[y_predict==1,1],s=50,c='green',label='Cluster2')\n",
    "plt.scatter(x[y_predict==2,0],x[y_predict==2,1],s=50,c='pink',label='Cluster3')\n",
    "plt.scatter(kmeans.cluster_centers_[:,0],kmeans.cluster_centers_[:,1],s=100,c='red',label='Centroid')\n",
    "plt.title('Clusters of live Data Points')\n",
    "plt.xlabel('num_comments')\n",
    "plt.ylabel('num_share')\n",
    "plt.legend()\n",
    "plt.show()"
   ]
  },
  {
   "cell_type": "code",
   "execution_count": 18,
   "id": "d71db261",
   "metadata": {},
   "outputs": [
    {
     "data": {
      "text/plain": [
       "array([[262, 432],\n",
       "       [  0, 150],\n",
       "       [ 57, 204],\n",
       "       ...,\n",
       "       [  0,   1],\n",
       "       [ 22, 349],\n",
       "       [  0,  17]], dtype=int64)"
      ]
     },
     "execution_count": 18,
     "metadata": {},
     "output_type": "execute_result"
    }
   ],
   "source": [
    "# 5=num_shares, 6= num_likes\n",
    "y=data.iloc[:,[5,6]].values\n",
    "y"
   ]
  },
  {
   "cell_type": "code",
   "execution_count": 19,
   "id": "ec5ca4d0",
   "metadata": {},
   "outputs": [
    {
     "data": {
      "image/png": "[encoded data removed]",
      "text/plain": [
       "<Figure size 432x288 with 1 Axes>"
      ]
     },
     "metadata": {
      "needs_background": "light"
     },
     "output_type": "display_data"
    }
   ],
   "source": [
    "from sklearn.cluster import KMeans\n",
    "# we have created the wcss list\n",
    "# wcss is a interia \n",
    "wcss_list2=[] # Initializing the list for the value of WCSS\n",
    "#hutte\n",
    "# kmeans.inertia_: sum of squared distance\n",
    "for i in range(1,11):\n",
    "    kmeans=KMeans(n_clusters=i,init='k-means++',random_state=1)\n",
    "    kmeans.fit(y)\n",
    "    wcss_list2.append(kmeans.inertia_)\n",
    "plt.plot(range(1,11),wcss_list2)\n",
    "plt.title('The Elbow Method Graph')\n",
    "plt.xlabel('Number of clusters(k)')\n",
    "plt.ylabel('wcss_list2')\n",
    "plt.show()"
   ]
  },
  {
   "cell_type": "code",
   "execution_count": 20,
   "id": "7e03f533",
   "metadata": {},
   "outputs": [
    {
     "data": {
      "text/plain": [
       "3"
      ]
     },
     "execution_count": 20,
     "metadata": {},
     "output_type": "execute_result"
    }
   ],
   "source": [
    "# This is Elbow point\n",
    "from kneed import KneeLocator\n",
    "k2=KneeLocator(range(1,11),wcss_list2,curve='convex',direction='decreasing')\n",
    "k2.elbow"
   ]
  },
  {
   "cell_type": "code",
   "execution_count": 21,
   "id": "376d12c7",
   "metadata": {},
   "outputs": [
    {
     "data": {
      "text/plain": [
       "array([2, 2, 2, ..., 2, 2, 2])"
      ]
     },
     "execution_count": 21,
     "metadata": {},
     "output_type": "execute_result"
    }
   ],
   "source": [
    "kmeans=KMeans(n_clusters=3,init='k-means++',random_state=1)\n",
    "# We are going to use the fit predict method that return for each observation which cluster\n",
    "y_predict2=kmeans.fit_predict(y)\n",
    "y_predict2"
   ]
  },
  {
   "cell_type": "code",
   "execution_count": 22,
   "id": "df0e1bfd",
   "metadata": {},
   "outputs": [
    {
     "data": {
      "image/png": "[encoded data removed]",
      "text/plain": [
       "<Figure size 432x288 with 1 Axes>"
      ]
     },
     "metadata": {
      "needs_background": "light"
     },
     "output_type": "display_data"
    }
   ],
   "source": [
    "# Scatter plot \n",
    "plt.scatter(y[:,0],y[:,1],c='blue',label='All Data Points')\n",
    "plt.title('Data Points')\n",
    "plt.xlabel('num_shares')\n",
    "plt.ylabel('num_likes')\n",
    "plt.legend()\n",
    "plt.show()"
   ]
  },
  {
   "cell_type": "code",
   "execution_count": 23,
   "id": "8a612f88",
   "metadata": {},
   "outputs": [
    {
     "data": {
      "image/png": "[encoded data removed]",
      "text/plain": [
       "<Figure size 432x288 with 1 Axes>"
      ]
     },
     "metadata": {
      "needs_background": "light"
     },
     "output_type": "display_data"
    }
   ],
   "source": [
    "# Here, we plot the Cluster and Centroid \n",
    "plt.scatter(y[y_predict2==0,0],y[y_predict2==0,1],s=100,c='blue',label='Cluster1')\n",
    "plt.scatter(y[y_predict2==1,0],y[y_predict2==1,1],s=50,c='green',label='Cluster2')\n",
    "plt.scatter(y[y_predict2==2,0],y[y_predict2==2,1],s=50,c='pink',label='Cluster3')\n",
    "plt.scatter(kmeans.cluster_centers_[:,0],kmeans.cluster_centers_[:,1],s=100,c='red',label='Centroid')\n",
    "plt.title('Clusters of live Data Points')\n",
    "plt.xlabel('num_shares')\n",
    "plt.ylabel('num_likes')\n",
    "plt.legend()\n",
    "plt.show()"
   ]
  },
  {
   "cell_type": "code",
   "execution_count": 24,
   "id": "423eff65",
   "metadata": {},
   "outputs": [
    {
     "data": {
      "text/plain": [
       "array([[432,  92],\n",
       "       [150,   0],\n",
       "       [204,  21],\n",
       "       ...,\n",
       "       [  1,   1],\n",
       "       [349,   2],\n",
       "       [ 17,   0]], dtype=int64)"
      ]
     },
     "execution_count": 24,
     "metadata": {},
     "output_type": "execute_result"
    }
   ],
   "source": [
    "# 7= num_likes , 11= num_loves\n",
    "z=data.iloc[:,[6,7]].values\n",
    "z"
   ]
  },
  {
   "cell_type": "code",
   "execution_count": 25,
   "id": "b275a788",
   "metadata": {},
   "outputs": [
    {
     "data": {
      "image/png": "[encoded data removed]",
      "text/plain": [
       "<Figure size 432x288 with 1 Axes>"
      ]
     },
     "metadata": {
      "needs_background": "light"
     },
     "output_type": "display_data"
    }
   ],
   "source": [
    "from sklearn.cluster import KMeans\n",
    "# we have created the wcss list\n",
    "# wcss is a interia \n",
    "wcss_list3=[] # Initializing the list for the value of WCSS\n",
    "#hutte\n",
    "# kmeans.inertia_: sum of squared distance\n",
    "for i in range(1,11):\n",
    "    kmeans=KMeans(n_clusters=i,init='k-means++',random_state=1)\n",
    "    kmeans.fit(z)\n",
    "    wcss_list3.append(kmeans.inertia_)\n",
    "plt.plot(range(1,11),wcss_list3)\n",
    "plt.title('The Elbow Method Graph')\n",
    "plt.xlabel('Number of clusters(k)')\n",
    "plt.ylabel('wcss_list2')\n",
    "plt.show()"
   ]
  },
  {
   "cell_type": "code",
   "execution_count": 26,
   "id": "f2521dc2",
   "metadata": {},
   "outputs": [
    {
     "data": {
      "text/plain": [
       "3"
      ]
     },
     "execution_count": 26,
     "metadata": {},
     "output_type": "execute_result"
    }
   ],
   "source": [
    "# This is the Elbow point\n",
    "from kneed import KneeLocator\n",
    "k3=KneeLocator(range(1,11),wcss_list2,curve='convex',direction='decreasing')\n",
    "k3.elbow"
   ]
  },
  {
   "cell_type": "code",
   "execution_count": 27,
   "id": "423ac068",
   "metadata": {},
   "outputs": [
    {
     "data": {
      "text/plain": [
       "array([0, 0, 0, ..., 0, 0, 0])"
      ]
     },
     "execution_count": 27,
     "metadata": {},
     "output_type": "execute_result"
    }
   ],
   "source": [
    "kmeans=KMeans(n_clusters=3,init='k-means++',random_state=1)\n",
    "# We are going to use the fit predict method that return for each observation which cluster\n",
    "y_predict3=kmeans.fit_predict(z)\n",
    "y_predict3"
   ]
  },
  {
   "cell_type": "code",
   "execution_count": 28,
   "id": "a719de03",
   "metadata": {},
   "outputs": [
    {
     "data": {
      "image/png": "[encoded data removed]",
      "text/plain": [
       "<Figure size 432x288 with 1 Axes>"
      ]
     },
     "metadata": {
      "needs_background": "light"
     },
     "output_type": "display_data"
    }
   ],
   "source": [
    "# Here, we plot the Cluster and Centroid \n",
    "plt.scatter(z[y_predict3==0,0],z[y_predict3==0,1],s=100,c='green',label='Cluster1')\n",
    "plt.scatter(z[y_predict3==1,0],z[y_predict3==1,1],s=50,c='yellow',label='Cluster2')\n",
    "plt.scatter(z[y_predict3==2,0],z[y_predict3==2,1],s=50,c='purple',label='Cluster3')\n",
    "plt.scatter(kmeans.cluster_centers_[:,0],kmeans.cluster_centers_[:,1],s=100,c='red',label='Centroid')\n",
    "plt.title('Clusters of live Data Points')\n",
    "plt.xlabel('num_likes')\n",
    "plt.ylabel('num_loves')\n",
    "plt.legend()\n",
    "plt.show()"
   ]
  },
  {
   "cell_type": "code",
   "execution_count": 29,
   "id": "5a829233",
   "metadata": {},
   "outputs": [
    {
     "data": {
      "text/plain": [
       "array([[  0, 512],\n",
       "       [  0,   0],\n",
       "       [  0, 236],\n",
       "       ...,\n",
       "       [  0,   0],\n",
       "       [  0,  12],\n",
       "       [  0,   0]], dtype=int64)"
      ]
     },
     "execution_count": 29,
     "metadata": {},
     "output_type": "execute_result"
    }
   ],
   "source": [
    "# 11= num_angrys and 4= num_comments\n",
    "s=data.iloc[:,[11,4]].values\n",
    "s"
   ]
  },
  {
   "cell_type": "code",
   "execution_count": 30,
   "id": "767684ca",
   "metadata": {},
   "outputs": [
    {
     "data": {
      "image/png": "[encoded data removed]",
      "text/plain": [
       "<Figure size 432x288 with 1 Axes>"
      ]
     },
     "metadata": {
      "needs_background": "light"
     },
     "output_type": "display_data"
    }
   ],
   "source": [
    "from sklearn.cluster import KMeans\n",
    "# we have created the wcss list\n",
    "# wcss is a interia \n",
    "wcss_list2=[] # Initializing the list for the value of WCSS\n",
    "#hutte\n",
    "# kmeans.inertia_: sum of squared distance\n",
    "for i in range(1,11):\n",
    "    kmeans=KMeans(n_clusters=i,init='k-means++',random_state=1)\n",
    "    kmeans.fit(s)\n",
    "    wcss_list2.append(kmeans.inertia_)\n",
    "plt.plot(range(1,11),wcss_list2)\n",
    "plt.title('The Elbow Method Graph')\n",
    "plt.xlabel('Number of clusters(k)')\n",
    "plt.ylabel('wcss_list2')\n",
    "plt.show()"
   ]
  },
  {
   "cell_type": "code",
   "execution_count": 31,
   "id": "2e0e98f4",
   "metadata": {},
   "outputs": [
    {
     "data": {
      "text/plain": [
       "3"
      ]
     },
     "execution_count": 31,
     "metadata": {},
     "output_type": "execute_result"
    }
   ],
   "source": [
    "# This is the Elbow point\n",
    "from kneed import KneeLocator\n",
    "k4=KneeLocator(range(1,11),wcss_list2,curve='convex',direction='decreasing')\n",
    "k4.elbow"
   ]
  },
  {
   "cell_type": "code",
   "execution_count": 32,
   "id": "3aa10d90",
   "metadata": {},
   "outputs": [
    {
     "data": {
      "text/plain": [
       "array([0, 0, 0, ..., 0, 0, 0])"
      ]
     },
     "execution_count": 32,
     "metadata": {},
     "output_type": "execute_result"
    }
   ],
   "source": [
    "kmeans=KMeans(n_clusters=3,init='k-means++',random_state=1)\n",
    "# We are going to use the fit predict method that return for each observation which cluster\n",
    "y_predict4=kmeans.fit_predict(s)\n",
    "y_predict4"
   ]
  },
  {
   "cell_type": "code",
   "execution_count": 33,
   "id": "88016e87",
   "metadata": {},
   "outputs": [
    {
     "data": {
      "image/png": "[encoded data removed]",
      "text/plain": [
       "<Figure size 432x288 with 1 Axes>"
      ]
     },
     "metadata": {
      "needs_background": "light"
     },
     "output_type": "display_data"
    }
   ],
   "source": [
    "# Here, we plot the Cluster and Centroid \n",
    "plt.scatter(s[y_predict4==0,0],s[y_predict4==0,1],s=100,c='blue',label='Cluster1')\n",
    "plt.scatter(s[y_predict4==1,0],s[y_predict4==1,1],s=50,c='pink',label='Cluster2')\n",
    "plt.scatter(s[y_predict4==2,0],s[y_predict4==2,1],s=50,c='purple',label='Cluster3')\n",
    "plt.scatter(kmeans.cluster_centers_[:,0],kmeans.cluster_centers_[:,1],s=100,c='red',label='Centroid')\n",
    "plt.title('Clusters of live Data Points')\n",
    "plt.xlabel('num_sads')\n",
    "plt.ylabel('num_shares')\n",
    "plt.legend()\n",
    "plt.show()"
   ]
  },
  {
   "cell_type": "code",
   "execution_count": 34,
   "id": "c25c73a3",
   "metadata": {},
   "outputs": [
    {
     "data": {
      "text/plain": [
       "array([[529, 512],\n",
       "       [150,   0],\n",
       "       [227, 236],\n",
       "       ...,\n",
       "       [  2,   0],\n",
       "       [351,  12],\n",
       "       [ 17,   0]], dtype=int64)"
      ]
     },
     "execution_count": 34,
     "metadata": {},
     "output_type": "execute_result"
    }
   ],
   "source": [
    "# 3= num_reaction and 4= num_comments\n",
    "q=data.iloc[:,[3,4]].values\n",
    "q"
   ]
  },
  {
   "cell_type": "code",
   "execution_count": 35,
   "id": "9ed48706",
   "metadata": {},
   "outputs": [
    {
     "data": {
      "image/png": "[encoded data removed]",
      "text/plain": [
       "<Figure size 432x288 with 1 Axes>"
      ]
     },
     "metadata": {
      "needs_background": "light"
     },
     "output_type": "display_data"
    }
   ],
   "source": [
    "from sklearn.cluster import KMeans\n",
    "# we have created the wcss list\n",
    "# wcss is a interia \n",
    "wcss_list2=[] # Initializing the list for the value of WCSS\n",
    "#hutte\n",
    "# kmeans.inertia_: sum of squared distance\n",
    "for i in range(1,11):\n",
    "    kmeans=KMeans(n_clusters=i,init='k-means++',random_state=1)\n",
    "    kmeans.fit(q)\n",
    "    wcss_list2.append(kmeans.inertia_)\n",
    "plt.plot(range(1,11),wcss_list2)\n",
    "plt.title('The Elbow Method Graph')\n",
    "plt.xlabel('Number of clusters(k)')\n",
    "plt.ylabel('wcss_list2')\n",
    "plt.show()"
   ]
  },
  {
   "cell_type": "code",
   "execution_count": 36,
   "id": "e22afa2a",
   "metadata": {},
   "outputs": [
    {
     "data": {
      "text/plain": [
       "3"
      ]
     },
     "execution_count": 36,
     "metadata": {},
     "output_type": "execute_result"
    }
   ],
   "source": [
    "# This is the Elbow point\n",
    "from kneed import KneeLocator\n",
    "k5=KneeLocator(range(1,11),wcss_list2,curve='convex',direction='decreasing')\n",
    "k5.elbow"
   ]
  },
  {
   "cell_type": "code",
   "execution_count": 37,
   "id": "cae1a104",
   "metadata": {},
   "outputs": [
    {
     "data": {
      "text/plain": [
       "array([0, 0, 0, ..., 0, 0, 0])"
      ]
     },
     "execution_count": 37,
     "metadata": {},
     "output_type": "execute_result"
    }
   ],
   "source": [
    "kmeans=KMeans(n_clusters=3,init='k-means++',random_state=1)\n",
    "# We are going to use the fit predict method that return for each observation which cluster\n",
    "y_predict5=kmeans.fit_predict(s)\n",
    "y_predict5"
   ]
  },
  {
   "cell_type": "code",
   "execution_count": 38,
   "id": "1e682ff6",
   "metadata": {},
   "outputs": [
    {
     "data": {
      "image/png": "[encoded data removed]",
      "text/plain": [
       "<Figure size 432x288 with 1 Axes>"
      ]
     },
     "metadata": {
      "needs_background": "light"
     },
     "output_type": "display_data"
    }
   ],
   "source": [
    "# Here, we plot the Cluster and Centroid \n",
    "plt.scatter(q[y_predict5==0,0],q[y_predict5==0,1],s=100,c='blue',label='Cluster1')\n",
    "plt.scatter(q[y_predict5==1,0],q[y_predict5==1,1],s=50,c='pink',label='Cluster2')\n",
    "plt.scatter(q[y_predict5==2,0],q[y_predict5==2,1],s=50,c='purple',label='Cluster3')\n",
    "plt.scatter(kmeans.cluster_centers_[:,0],kmeans.cluster_centers_[:,1],s=100,c='red',label='Centroid')\n",
    "plt.title('Clusters of live Data Points')\n",
    "plt.xlabel('num_reaction')\n",
    "plt.ylabel('num_comments')\n",
    "plt.legend()\n",
    "plt.show()"
   ]
  }
 ],
 "metadata": {
  "kernelspec": {
   "display_name": "Python 3 (ipykernel)",
   "language": "python",
   "name": "python3"
  },
  "language_info": {
   "codemirror_mode": {
    "name": "ipython",
    "version": 3
   },
   "file_extension": ".py",
   "mimetype": "text/x-python",
   "name": "python",
   "nbconvert_exporter": "python",
   "pygments_lexer": "ipython3",
   "version": "3.9.12"
  }
 },
 "nbformat": 4,
 "nbformat_minor": 5
}
